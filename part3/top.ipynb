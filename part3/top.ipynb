{
 "cells": [
  {
   "cell_type": "code",
   "execution_count": 7,
   "metadata": {},
   "outputs": [],
   "source": [
    "import sys\n",
    "import os\n",
    "import glob\n",
    "import csv\n",
    "import json\n",
    "import pandas as pd"
   ]
  },
  {
   "cell_type": "code",
   "execution_count": 8,
   "metadata": {},
   "outputs": [],
   "source": [
    "config = {\n",
    "    \"commoncrawl\":\"cc\",\n",
    "    \"twitter\":\"tw\",\n",
    "    \"nyt\":\"nyt\"\n",
    "}"
   ]
  },
  {
   "cell_type": "code",
   "execution_count": 9,
   "metadata": {},
   "outputs": [],
   "source": [
    "def getWordList(fileName, ftype):\n",
    "    mapperOutput = open(fileName,\"r\")\n",
    "    tupleList = list()\n",
    "    for line in mapperOutput.readlines():\n",
    "        split = line.split(\"\\t\")\n",
    "        if ftype == \"wc\":\n",
    "            tupleList.append((split[0], int(split[1])))\n",
    "        elif ftype == \"wcoc\":\n",
    "            tupleList.append((split[0].split(\":\")[0], split[0].split(\":\")[1], int(split[1])))\n",
    "    return tupleList"
   ]
  },
  {
   "cell_type": "code",
   "execution_count": 10,
   "metadata": {},
   "outputs": [],
   "source": [
    "def writeWordCsv(fileName, ftype, content):\n",
    "    with open(fileName, \"w\") as out:\n",
    "        csv_out = csv.writer(out)\n",
    "        if ftype == \"wc\":\n",
    "            csv_out.writerow(['word','count'])\n",
    "        elif ftype == \"wcoc\":\n",
    "            csv_out.writerow(['word1', 'word2', 'count'])\n",
    "        csv_out.writerows(content)"
   ]
  },
  {
   "cell_type": "code",
   "execution_count": 16,
   "metadata": {},
   "outputs": [],
   "source": [
    "source = \"nyt\"\n",
    "topic = \"fb\"\n",
    "otype = \"wc\"\n",
    "topN = 20"
   ]
  },
  {
   "cell_type": "code",
   "execution_count": 17,
   "metadata": {},
   "outputs": [],
   "source": [
    "tupleList = getWordList(source+\"/hadoopOutput/\"+config[source]+\"_\"+topic+\"_output/part-00000\", otype)"
   ]
  },
  {
   "cell_type": "code",
   "execution_count": 18,
   "metadata": {},
   "outputs": [],
   "source": [
    "sortedList = sorted(tupleList, key=lambda x: x[1], reverse=True)"
   ]
  },
  {
   "cell_type": "code",
   "execution_count": 19,
   "metadata": {},
   "outputs": [],
   "source": [
    "topWords = sortedList[:topN]\n",
    "writeWordCsv(source+\"/\"+config[source]+\"_\"+topic+\"_\"+otype+\".csv\", otype, topWords)"
   ]
  },
  {
   "cell_type": "code",
   "execution_count": null,
   "metadata": {},
   "outputs": [],
   "source": []
  }
 ],
 "metadata": {
  "kernelspec": {
   "display_name": "Python 3",
   "language": "python",
   "name": "python3"
  },
  "language_info": {
   "codemirror_mode": {
    "name": "ipython",
    "version": 3
   },
   "file_extension": ".py",
   "mimetype": "text/x-python",
   "name": "python",
   "nbconvert_exporter": "python",
   "pygments_lexer": "ipython3",
   "version": "3.7.2"
  }
 },
 "nbformat": 4,
 "nbformat_minor": 2
}
