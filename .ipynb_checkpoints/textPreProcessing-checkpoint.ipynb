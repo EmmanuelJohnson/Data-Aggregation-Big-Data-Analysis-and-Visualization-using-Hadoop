{
 "cells": [
  {
   "cell_type": "code",
   "execution_count": 40,
   "metadata": {},
   "outputs": [],
   "source": [
    "import nltk\n",
    "import re\n",
    "from nltk.corpus import stopwords\n",
    "#from nltk.stem import LancasterStemmer as ls\n",
    "from nltk.tokenize import word_tokenize\n",
    "from nltk.stem.snowball import SnowballStemmer as ss\n",
    "#from nltk.stem import WordNetLemmatizer as wn\n",
    "import glob"
   ]
  },
  {
   "cell_type": "code",
   "execution_count": 41,
   "metadata": {},
   "outputs": [],
   "source": [
    "def saveFile(fileName, content):\n",
    "    file = open(fileName,\"w\") \n",
    "    file.write(content)\n",
    "    file.close()"
   ]
  },
  {
   "cell_type": "code",
   "execution_count": 42,
   "metadata": {},
   "outputs": [],
   "source": [
    "def stemSentence(sentence):\n",
    "    words = word_tokenize(sentence)\n",
    "    final = \"\"\n",
    "    sb = ss(\"english\")\n",
    "    for w in words: \n",
    "    #     root = ls().stem(w)\n",
    "    #     print(w, \" : \", root) \n",
    "    #     print(w, \" : \", ss(\"english\").stem(w))\n",
    "    #     print(w, \" : \", wn().lemmatize(w))\n",
    "        root = sb.stem(w)\n",
    "        final += root\n",
    "        final += \" \"\n",
    "    return final"
   ]
  },
  {
   "cell_type": "code",
   "execution_count": 57,
   "metadata": {},
   "outputs": [],
   "source": [
    "fn = \"nyt_g_\"\n",
    "#dest = \"data/nyt/\"\n",
    "path = \"pre_data/nyt/golf/*.txt\"\n",
    "files=glob.glob(path)"
   ]
  },
  {
   "cell_type": "code",
   "execution_count": 58,
   "metadata": {},
   "outputs": [],
   "source": [
    "counter = 0\n",
    "for f in files:\n",
    "    sample = open(f,\"r\")\n",
    "    refined = \"\"\n",
    "    refinedFinal = \"\"\n",
    "    for line in sample.readlines():\n",
    "        lowerLine = line.lower()\n",
    "        noNoLine = re.sub(r'\\d+', '', lowerLine)\n",
    "        words = re.findall(r'\\w+', noNoLine, flags = re.UNICODE | re.LOCALE)\n",
    "        important_words = filter(lambda x: x not in stopwords.words('english') and x.isdigit() == False, words)\n",
    "        refined += \" \".join(important_words)\n",
    "        refinedFinal = stemSentence(refined)\n",
    "    saveFile(dest+fn+str(counter)+\".txt\", refinedFinal)\n",
    "    counter += 1\n",
    "    sample.close()"
   ]
  },
  {
   "cell_type": "code",
   "execution_count": null,
   "metadata": {},
   "outputs": [],
   "source": []
  }
 ],
 "metadata": {
  "kernelspec": {
   "display_name": "Python 3",
   "language": "python",
   "name": "python3"
  },
  "language_info": {
   "codemirror_mode": {
    "name": "ipython",
    "version": 2
   },
   "file_extension": ".py",
   "mimetype": "text/x-python",
   "name": "python",
   "nbconvert_exporter": "python",
   "pygments_lexer": "ipython2",
   "version": "2.7.10"
  }
 },
 "nbformat": 4,
 "nbformat_minor": 2
}
