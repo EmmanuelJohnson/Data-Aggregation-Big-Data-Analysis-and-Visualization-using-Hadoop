{
 "cells": [
  {
   "cell_type": "code",
   "execution_count": 108,
   "metadata": {},
   "outputs": [],
   "source": [
    "import requests\n",
    "import json\n",
    "import codecs\n",
    "import csv\n",
    "from bs4 import BeautifulSoup\n",
    "import time"
   ]
  },
  {
   "cell_type": "code",
   "execution_count": 109,
   "metadata": {},
   "outputs": [],
   "source": [
    "APP_KEY = \"WTjnKw4UrXjAY7E7FrIGX9HKYj1lbbY8\"\n",
    "APP_SECRET = \"e28wPvKPBTf2GcAd\""
   ]
  },
  {
   "cell_type": "code",
   "execution_count": 110,
   "metadata": {},
   "outputs": [],
   "source": [
    "def saveFile(fileName, content):\n",
    "    file = open(fileName,\"w\") \n",
    "    file.write(content)\n",
    "    file.close()"
   ]
  },
  {
   "cell_type": "code",
   "execution_count": 111,
   "metadata": {},
   "outputs": [],
   "source": [
    "def formUrl(query, fromDate, toDate, fl, page=0):\n",
    "    url = \"https://api.nytimes.com/svc/search/v2/articlesearch.json?begin_date=\"+fromDate+\"&end_date=\"+toDate+ \\\n",
    "\"&fl=\"+fl+\"&q=\"+query+\"&api-key=\"+APP_KEY+\"&page=\"+str(page)\n",
    "    return url"
   ]
  },
  {
   "cell_type": "code",
   "execution_count": 112,
   "metadata": {},
   "outputs": [],
   "source": [
    "def getNYTUrls(url):\n",
    "    page = 0\n",
    "    result_url = list()\n",
    "    while True:\n",
    "        response = requests.get(url)\n",
    "        if response.status_code == 200:\n",
    "            resp = json.loads(response.content)\n",
    "            print(\"#### \", len(resp[\"response\"][\"docs\"]), \" ####\")\n",
    "            if len(resp[\"response\"][\"docs\"]) == 0:\n",
    "                break\n",
    "            for d in resp[\"response\"][\"docs\"]:\n",
    "                if d[\"web_url\"] not in result_url:\n",
    "                    result_url.append(d[\"web_url\"])\n",
    "        page += 1\n",
    "        url = \"&\".join(url.split(\"&\")[:-1])+\"&page=\"+str(page)\n",
    "        print(page, url)\n",
    "        if ((page+1) % 10) == 0:\n",
    "            time.sleep(61)\n",
    "    return result_url"
   ]
  },
  {
   "cell_type": "code",
   "execution_count": 113,
   "metadata": {},
   "outputs": [
    {
     "name": "stdout",
     "output_type": "stream",
     "text": [
      "https://api.nytimes.com/svc/search/v2/articlesearch.json?begin_date=20190101&end_date=20190331&fl=web_url,document_type&q=golf&api-key=WTjnKw4UrXjAY7E7FrIGX9HKYj1lbbY8&page=0\n"
     ]
    }
   ],
   "source": [
    "#baseball\n",
    "#football\n",
    "#basketball\n",
    "#golf\n",
    "query = \"golf\"\n",
    "url = formUrl(query, \"20190101\", \"20190331\", \"web_url,document_type\")\n",
    "print(url)"
   ]
  },
  {
   "cell_type": "code",
   "execution_count": 114,
   "metadata": {},
   "outputs": [
    {
     "name": "stdout",
     "output_type": "stream",
     "text": [
      "('#### ', 10, ' ####')\n",
      "(1, 'https://api.nytimes.com/svc/search/v2/articlesearch.json?begin_date=20190101&end_date=20190331&fl=web_url,document_type&q=golf&api-key=WTjnKw4UrXjAY7E7FrIGX9HKYj1lbbY8&page=1')\n",
      "('#### ', 10, ' ####')\n",
      "(2, 'https://api.nytimes.com/svc/search/v2/articlesearch.json?begin_date=20190101&end_date=20190331&fl=web_url,document_type&q=golf&api-key=WTjnKw4UrXjAY7E7FrIGX9HKYj1lbbY8&page=2')\n",
      "('#### ', 10, ' ####')\n",
      "(3, 'https://api.nytimes.com/svc/search/v2/articlesearch.json?begin_date=20190101&end_date=20190331&fl=web_url,document_type&q=golf&api-key=WTjnKw4UrXjAY7E7FrIGX9HKYj1lbbY8&page=3')\n",
      "('#### ', 10, ' ####')\n",
      "(4, 'https://api.nytimes.com/svc/search/v2/articlesearch.json?begin_date=20190101&end_date=20190331&fl=web_url,document_type&q=golf&api-key=WTjnKw4UrXjAY7E7FrIGX9HKYj1lbbY8&page=4')\n",
      "('#### ', 10, ' ####')\n",
      "(5, 'https://api.nytimes.com/svc/search/v2/articlesearch.json?begin_date=20190101&end_date=20190331&fl=web_url,document_type&q=golf&api-key=WTjnKw4UrXjAY7E7FrIGX9HKYj1lbbY8&page=5')\n",
      "('#### ', 10, ' ####')\n",
      "(6, 'https://api.nytimes.com/svc/search/v2/articlesearch.json?begin_date=20190101&end_date=20190331&fl=web_url,document_type&q=golf&api-key=WTjnKw4UrXjAY7E7FrIGX9HKYj1lbbY8&page=6')\n",
      "('#### ', 10, ' ####')\n",
      "(7, 'https://api.nytimes.com/svc/search/v2/articlesearch.json?begin_date=20190101&end_date=20190331&fl=web_url,document_type&q=golf&api-key=WTjnKw4UrXjAY7E7FrIGX9HKYj1lbbY8&page=7')\n",
      "('#### ', 10, ' ####')\n",
      "(8, 'https://api.nytimes.com/svc/search/v2/articlesearch.json?begin_date=20190101&end_date=20190331&fl=web_url,document_type&q=golf&api-key=WTjnKw4UrXjAY7E7FrIGX9HKYj1lbbY8&page=8')\n",
      "('#### ', 10, ' ####')\n",
      "(9, 'https://api.nytimes.com/svc/search/v2/articlesearch.json?begin_date=20190101&end_date=20190331&fl=web_url,document_type&q=golf&api-key=WTjnKw4UrXjAY7E7FrIGX9HKYj1lbbY8&page=9')\n",
      "('#### ', 10, ' ####')\n",
      "(10, 'https://api.nytimes.com/svc/search/v2/articlesearch.json?begin_date=20190101&end_date=20190331&fl=web_url,document_type&q=golf&api-key=WTjnKw4UrXjAY7E7FrIGX9HKYj1lbbY8&page=10')\n",
      "('#### ', 10, ' ####')\n",
      "(11, 'https://api.nytimes.com/svc/search/v2/articlesearch.json?begin_date=20190101&end_date=20190331&fl=web_url,document_type&q=golf&api-key=WTjnKw4UrXjAY7E7FrIGX9HKYj1lbbY8&page=11')\n",
      "('#### ', 10, ' ####')\n",
      "(12, 'https://api.nytimes.com/svc/search/v2/articlesearch.json?begin_date=20190101&end_date=20190331&fl=web_url,document_type&q=golf&api-key=WTjnKw4UrXjAY7E7FrIGX9HKYj1lbbY8&page=12')\n",
      "('#### ', 10, ' ####')\n",
      "(13, 'https://api.nytimes.com/svc/search/v2/articlesearch.json?begin_date=20190101&end_date=20190331&fl=web_url,document_type&q=golf&api-key=WTjnKw4UrXjAY7E7FrIGX9HKYj1lbbY8&page=13')\n",
      "('#### ', 10, ' ####')\n",
      "(14, 'https://api.nytimes.com/svc/search/v2/articlesearch.json?begin_date=20190101&end_date=20190331&fl=web_url,document_type&q=golf&api-key=WTjnKw4UrXjAY7E7FrIGX9HKYj1lbbY8&page=14')\n",
      "('#### ', 10, ' ####')\n",
      "(15, 'https://api.nytimes.com/svc/search/v2/articlesearch.json?begin_date=20190101&end_date=20190331&fl=web_url,document_type&q=golf&api-key=WTjnKw4UrXjAY7E7FrIGX9HKYj1lbbY8&page=15')\n",
      "('#### ', 10, ' ####')\n",
      "(16, 'https://api.nytimes.com/svc/search/v2/articlesearch.json?begin_date=20190101&end_date=20190331&fl=web_url,document_type&q=golf&api-key=WTjnKw4UrXjAY7E7FrIGX9HKYj1lbbY8&page=16')\n",
      "('#### ', 10, ' ####')\n",
      "(17, 'https://api.nytimes.com/svc/search/v2/articlesearch.json?begin_date=20190101&end_date=20190331&fl=web_url,document_type&q=golf&api-key=WTjnKw4UrXjAY7E7FrIGX9HKYj1lbbY8&page=17')\n",
      "('#### ', 10, ' ####')\n",
      "(18, 'https://api.nytimes.com/svc/search/v2/articlesearch.json?begin_date=20190101&end_date=20190331&fl=web_url,document_type&q=golf&api-key=WTjnKw4UrXjAY7E7FrIGX9HKYj1lbbY8&page=18')\n",
      "('#### ', 10, ' ####')\n",
      "(19, 'https://api.nytimes.com/svc/search/v2/articlesearch.json?begin_date=20190101&end_date=20190331&fl=web_url,document_type&q=golf&api-key=WTjnKw4UrXjAY7E7FrIGX9HKYj1lbbY8&page=19')\n",
      "('#### ', 10, ' ####')\n",
      "(20, 'https://api.nytimes.com/svc/search/v2/articlesearch.json?begin_date=20190101&end_date=20190331&fl=web_url,document_type&q=golf&api-key=WTjnKw4UrXjAY7E7FrIGX9HKYj1lbbY8&page=20')\n",
      "('#### ', 10, ' ####')\n",
      "(21, 'https://api.nytimes.com/svc/search/v2/articlesearch.json?begin_date=20190101&end_date=20190331&fl=web_url,document_type&q=golf&api-key=WTjnKw4UrXjAY7E7FrIGX9HKYj1lbbY8&page=21')\n",
      "('#### ', 10, ' ####')\n",
      "(22, 'https://api.nytimes.com/svc/search/v2/articlesearch.json?begin_date=20190101&end_date=20190331&fl=web_url,document_type&q=golf&api-key=WTjnKw4UrXjAY7E7FrIGX9HKYj1lbbY8&page=22')\n",
      "('#### ', 10, ' ####')\n",
      "(23, 'https://api.nytimes.com/svc/search/v2/articlesearch.json?begin_date=20190101&end_date=20190331&fl=web_url,document_type&q=golf&api-key=WTjnKw4UrXjAY7E7FrIGX9HKYj1lbbY8&page=23')\n",
      "('#### ', 10, ' ####')\n",
      "(24, 'https://api.nytimes.com/svc/search/v2/articlesearch.json?begin_date=20190101&end_date=20190331&fl=web_url,document_type&q=golf&api-key=WTjnKw4UrXjAY7E7FrIGX9HKYj1lbbY8&page=24')\n",
      "('#### ', 10, ' ####')\n",
      "(25, 'https://api.nytimes.com/svc/search/v2/articlesearch.json?begin_date=20190101&end_date=20190331&fl=web_url,document_type&q=golf&api-key=WTjnKw4UrXjAY7E7FrIGX9HKYj1lbbY8&page=25')\n",
      "('#### ', 10, ' ####')\n",
      "(26, 'https://api.nytimes.com/svc/search/v2/articlesearch.json?begin_date=20190101&end_date=20190331&fl=web_url,document_type&q=golf&api-key=WTjnKw4UrXjAY7E7FrIGX9HKYj1lbbY8&page=26')\n",
      "('#### ', 10, ' ####')\n",
      "(27, 'https://api.nytimes.com/svc/search/v2/articlesearch.json?begin_date=20190101&end_date=20190331&fl=web_url,document_type&q=golf&api-key=WTjnKw4UrXjAY7E7FrIGX9HKYj1lbbY8&page=27')\n",
      "('#### ', 10, ' ####')\n",
      "(28, 'https://api.nytimes.com/svc/search/v2/articlesearch.json?begin_date=20190101&end_date=20190331&fl=web_url,document_type&q=golf&api-key=WTjnKw4UrXjAY7E7FrIGX9HKYj1lbbY8&page=28')\n",
      "('#### ', 10, ' ####')\n",
      "(29, 'https://api.nytimes.com/svc/search/v2/articlesearch.json?begin_date=20190101&end_date=20190331&fl=web_url,document_type&q=golf&api-key=WTjnKw4UrXjAY7E7FrIGX9HKYj1lbbY8&page=29')\n",
      "('#### ', 10, ' ####')\n",
      "(30, 'https://api.nytimes.com/svc/search/v2/articlesearch.json?begin_date=20190101&end_date=20190331&fl=web_url,document_type&q=golf&api-key=WTjnKw4UrXjAY7E7FrIGX9HKYj1lbbY8&page=30')\n",
      "('#### ', 6, ' ####')\n",
      "(31, 'https://api.nytimes.com/svc/search/v2/articlesearch.json?begin_date=20190101&end_date=20190331&fl=web_url,document_type&q=golf&api-key=WTjnKw4UrXjAY7E7FrIGX9HKYj1lbbY8&page=31')\n",
      "('#### ', 0, ' ####')\n",
      "Total URLs : 306\n"
     ]
    }
   ],
   "source": [
    "result_urls = getNYTUrls(url)\n",
    "print(\"Total URLs : \"+str(len(result_urls)))"
   ]
  },
  {
   "cell_type": "code",
   "execution_count": 115,
   "metadata": {},
   "outputs": [],
   "source": [
    "fName = query+\"-nyt\"\n",
    "with codecs.open(\"%s-links.csv\" % fName,\"wb\",encoding=\"utf-8\") as output:\n",
    "\n",
    "    fields = [\"URL\"]\n",
    "    \n",
    "    logger = csv.DictWriter(output,fieldnames=fields)\n",
    "    logger.writeheader()\n",
    "    \n",
    "    for url in result_urls:\n",
    "        logger.writerow({\"URL\":url})"
   ]
  },
  {
   "cell_type": "code",
   "execution_count": 116,
   "metadata": {},
   "outputs": [],
   "source": [
    "counter = 0\n",
    "for url in result_urls:\n",
    "    fileName = \"pre_data/nyt/\"+query+\"/\"+str(counter)+\".txt\"\n",
    "    response = requests.get(url)\n",
    "    if response.status_code == 200:\n",
    "        parser = BeautifulSoup(response.content, 'html.parser')\n",
    "        article = parser.find(\"section\", {\"name\":\"articleBody\"})\n",
    "        if article:\n",
    "            paras = article.find_all(\"p\")\n",
    "            if len(paras) > 0:\n",
    "                content = \"\"\n",
    "                for p in paras:\n",
    "                    content += p.text.encode('utf-8').strip()\n",
    "                saveFile(fileName, content)\n",
    "    counter += 1"
   ]
  },
  {
   "cell_type": "code",
   "execution_count": null,
   "metadata": {},
   "outputs": [],
   "source": []
  }
 ],
 "metadata": {
  "kernelspec": {
   "display_name": "Python 2",
   "language": "python",
   "name": "python2"
  },
  "language_info": {
   "codemirror_mode": {
    "name": "ipython",
    "version": 2
   },
   "file_extension": ".py",
   "mimetype": "text/x-python",
   "name": "python",
   "nbconvert_exporter": "python",
   "pygments_lexer": "ipython2",
   "version": "2.7.10"
  }
 },
 "nbformat": 4,
 "nbformat_minor": 2
}
